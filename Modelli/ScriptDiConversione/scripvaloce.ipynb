{
 "cells": [
  {
   "cell_type": "code",
   "execution_count": 9,
   "metadata": {},
   "outputs": [
    {
     "name": "stdout",
     "output_type": "stream",
     "text": [
      "{'Header': '../DataSet/B101/B101/Header.mat', 'Channel1': '../DataSet/B101/B101/Channel1.mat', 'Channel2': '../DataSet/B101/B101/Channel2.mat', 'Channel3': '../DataSet/B101/B101/Channel3.mat', 'Channel4': '../DataSet/B101/B101/Channel4.mat', 'Channel5': '../DataSet/B101/B101/Channel5.mat', 'Channel6': '../DataSet/B101/B101/Channel6.mat', 'Channel7': '../DataSet/B101/B101/Channel7.mat', 'Channel8': '../DataSet/B101/B101/Channel8.mat', 'Channel9': '../DataSet/B101/B101/Channel9.mat', 'Channel10': '../DataSet/B101/B101/Channel10.mat', 'Channel11': '../DataSet/B101/B101/Channel11.mat', 'Channel12': '../DataSet/B101/B101/Channel12.mat', 'Channel13': '../DataSet/B101/B101/Channel13.mat', 'Channel14': '../DataSet/B101/B101/Channel14.mat', 'Channel15': '../DataSet/B101/B101/Channel15.mat', 'Channel16': '../DataSet/B101/B101/Channel16.mat', 'Channel17': '../DataSet/B101/B101/Channel17.mat', 'Channel18': '../DataSet/B101/B101/Channel18.mat', 'Channel19': '../DataSet/B101/B101/Channel19.mat', 'Channel20': '../DataSet/B101/B101/Channel20.mat', 'Channel21': '../DataSet/B101/B101/Channel21.mat', 'Channel22': '../DataSet/B101/B101/Channel22.mat', 'Channel23': '../DataSet/B101/B101/Channel23.mat', 'Channel24': '../DataSet/B101/B101/Channel24.mat', 'Channel25': '../DataSet/B101/B101/Channel25.mat', 'Channel26': '../DataSet/B101/B101/Channel26.mat', 'Channel27': '../DataSet/B101/B101/Channel27.mat', 'Channel28': '../DataSet/B101/B101/Channel28.mat', 'Channel29': '../DataSet/B101/B101/Channel29.mat', 'Channel30': '../DataSet/B101/B101/Channel30.mat', 'Channel31': '../DataSet/B101/B101/Channel31.mat', 'Channel32': '../DataSet/B101/B101/Channel32.mat', 'Channel33': '../DataSet/B101/B101/Channel33.mat', 'Channel34': '../DataSet/B101/B101/Channel34.mat', 'Channel35': '../DataSet/B101/B101/Channel35.mat', 'Channel36': '../DataSet/B101/B101/Channel36.mat', 'Channel37': '../DataSet/B101/B101/Channel37.mat', 'Channel38': '../DataSet/B101/B101/Channel38.mat', 'Channel39': '../DataSet/B101/B101/Channel39.mat', 'Channel40': '../DataSet/B101/B101/Channel40.mat', 'Channel41': '../DataSet/B101/B101/Channel41.mat', 'Channel42': '../DataSet/B101/B101/Channel42.mat', 'Channel43': '../DataSet/B101/B101/Channel43.mat', 'Channel44': '../DataSet/B101/B101/Channel44.mat', 'Channel45': '../DataSet/B101/B101/Channel45.mat', 'Channel46': '../DataSet/B101/B101/Channel46.mat', 'Channel47': '../DataSet/B101/B101/Channel47.mat', 'Channel48': '../DataSet/B101/B101/Channel48.mat', 'Channel49': '../DataSet/B101/B101/Channel49.mat', 'Channel50': '../DataSet/B101/B101/Channel50.mat', 'Channel51': '../DataSet/B101/B101/Channel51.mat', 'Channel52': '../DataSet/B101/B101/Channel52.mat', 'Channel53': '../DataSet/B101/B101/Channel53.mat', 'Channel54': '../DataSet/B101/B101/Channel54.mat', 'Channel55': '../DataSet/B101/B101/Channel55.mat', 'Channel56': '../DataSet/B101/B101/Channel56.mat', 'Channel57': '../DataSet/B101/B101/Channel57.mat', 'Channel58': '../DataSet/B101/B101/Channel58.mat', 'Channel59': '../DataSet/B101/B101/Channel59.mat', 'Channel60': '../DataSet/B101/B101/Channel60.mat', 'Channel61': '../DataSet/B101/B101/Channel61.mat', 'Channel62': '../DataSet/B101/B101/Channel62.mat'}\n",
      "../json/B101.json\n"
     ]
    }
   ],
   "source": [
    "import os\n",
    "import json\n",
    "import MyLibrary as ml\n",
    "import re\n",
    "\n",
    "def estrai_numero(stringa):\n",
    "    numeri = re.findall(r'\\d+', stringa)\n",
    "    return int(numeri[0]) if numeri else None\n",
    "\n",
    "def estrai_info(chiave):\n",
    "        match = re.match(r'([a-zA-Z]+)(\\d+)', chiave)\n",
    "        return match.group(1), int(match.group(2))\n",
    "    \n",
    "def convert_to_json(folder_path):\n",
    "    addresses_with_number = {}\n",
    "    addresses_without_number = {}\n",
    "    \n",
    "    with os.scandir(folder_path) as entries:\n",
    "        for entry in entries:\n",
    "            if entry.name.endswith('.mat') and entry.is_file():\n",
    "                file_path = os.path.join(folder_path, entry.name)\n",
    "                file_name_without_extension = entry.name.replace('.mat', '')\n",
    "                match = re.match(r'Channel(\\d+)', entry.name)\n",
    "                if match:\n",
    "                    channel_number = int(match.group(1))\n",
    "                    addresses_with_number[file_name_without_extension] = file_path\n",
    "                else:\n",
    "                    addresses_without_number[file_name_without_extension] = file_path\n",
    "    \n",
    "    # Ordina il dizionario in base al numero estratto dai nomi dei file\n",
    "    sorted_dict_with_number = dict(sorted(addresses_with_number.items(), key=lambda x: int(re.match(r'Channel(\\d+)', x[0]).group(1))))\n",
    "    \n",
    "    # Unisci i dizionari ordinati\n",
    "    sorted_dict = {**addresses_without_number, **sorted_dict_with_number}\n",
    "    \n",
    "    return sorted_dict\n",
    "\n",
    "folder_path = r'../DataSet/B101/B101'  # Replace with the actual folder path\n",
    "json_data = convert_to_json(folder_path)\n",
    "print(json_data)\n",
    "path=ml.read_json_file(r'../Percorsi.json')['B101']\n",
    "print(path)\n",
    "ml.write_json_file(path, json_data)"
   ]
  }
 ],
 "metadata": {
  "kernelspec": {
   "display_name": "py39all",
   "language": "python",
   "name": "python3"
  },
  "language_info": {
   "codemirror_mode": {
    "name": "ipython",
    "version": 3
   },
   "file_extension": ".py",
   "mimetype": "text/x-python",
   "name": "python",
   "nbconvert_exporter": "python",
   "pygments_lexer": "ipython3",
   "version": "3.9.12"
  }
 },
 "nbformat": 4,
 "nbformat_minor": 2
}
